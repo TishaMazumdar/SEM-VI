{
 "cells": [
  {
   "cell_type": "markdown",
   "id": "9304ccd5-649f-437e-ac41-4b7238e19966",
   "metadata": {},
   "source": [
    "# Syllabus\n",
    "- Introduction\n",
    "- R installation and basic syntax\n",
    "- Data Types – Vectors, Lists, Matrices, Arrays, Factors, Data Frames\n",
    "- Variables – Variable assignment, Data Type of a variable, finding variables, Deleting variables\n",
    "- Operators in R\n",
    "- Creating and manipulating objects\n",
    "- Importing/Exporting data\n",
    "- Data Distribution\n",
    "- Data manipulation and extracting components\n",
    "- Data Shaping and Transformation\n"
   ]
  },
  {
   "cell_type": "markdown",
   "id": "b1764184-a23f-43be-8408-21401b1ae23c",
   "metadata": {},
   "source": [
    "# INTRODUCTION\n",
    "\n",
    "- R is a leading tool for machine learning, statistics, and data analysis.\n",
    "- Created by Ross Ihaka and Robert Gentleman at the University of Auckland.\n",
    "- Platform-independent and open-source, accessible on all operating systems.\n",
    "- Integrates with languages like C and C++ for broader functionality.\n",
    "- Popular in the Data Science job market with a growing user community.\n",
    "- Originated from the S programming language with influences from Scheme.\n",
    "- First stable beta version released in 2000."
   ]
  },
  {
   "cell_type": "markdown",
   "id": "544327f5-847c-4834-8414-5b7538767576",
   "metadata": {},
   "source": [
    "# WHY USE R PROGRAM? [FEATURES]\n",
    "\n",
    "- Ideal for data-driven research with a vast array of statistical techniques.\n",
    "- Rich ecosystem for advanced data manipulation, visualization, and machine learning.\n",
    "- Strong Data Visualization: Powerful tools like ggplot2 and plotly for detailed, aesthetically pleasing graphs.\n",
    "- It is open source and free; accessible without licensing costs.\n",
    "- Runs on Windows, macOS, and Linux; platform independence.\n",
    "- Seamless interaction with C, C++, Python, and Java.\n",
    "- Large, active community with extensive resources.\n",
    "- Highly sought-after language in the Data Science job market.\n"
   ]
  },
  {
   "cell_type": "markdown",
   "id": "ddb50137-a25a-4cae-9228-462db6a46775",
   "metadata": {},
   "source": [
    "# ADVANTAGES\n",
    "- R is the most comprehensive statistical analysis package. As new technology and concepts often appear first in R.\n",
    "- As R programming language is an open source. Thus, you can run R anywhere and at any time.\n",
    "- R programming language is suitable for GNU/Linux and Windows operating systems.\n",
    "- R programming is cross-platform and runs on any operating system.\n",
    "- In R, everyone is welcome to provide new packages, bug fixes, and code enhancements.\n"
   ]
  },
  {
   "cell_type": "markdown",
   "id": "22956a87-cf84-48af-ac2e-555d56c5f143",
   "metadata": {},
   "source": [
    "# DISADVANTAGES\n",
    "\n",
    "- In the R programming language, the standard of some packages is less than perfect.\n",
    "- Although, R commands give little pressure on memory management. So, R programming language may consume all available memory.\n",
    "- In R basically, nobody to complain if something doesn’t work.\n",
    "- R programming language is much slower than other programming languages such as Python and MATLAB."
   ]
  },
  {
   "cell_type": "markdown",
   "id": "906f084a-55ea-4a16-a5f0-5828907f646b",
   "metadata": {},
   "source": [
    "# APPLICATIONS\n",
    "- R for Data Science: Offers a wide range of libraries for statistics and a comprehensive environment for statistical computing.\n",
    "- Used by Quantitative Analysts: Helps with data importing, cleaning, and analysis.\n",
    "- Prevalence in Data Analysis: Widely used by data analysts and research programmers, especially in finance.\n",
    "- Adopted by Tech Giants: Companies like Google, Facebook, Bing, Twitter, Accenture, and Wipro use R."
   ]
  },
  {
   "attachments": {
    "28c0c444-2f23-47b2-9877-90bc1a50b653.png": {
     "image/png": "[encoded data removed]"
    }
   },
   "cell_type": "markdown",
   "id": "a717f09f-c7f7-4c02-b800-f9ccb59dcbac",
   "metadata": {},
   "source": [
    "![image.png](attachment:28c0c444-2f23-47b2-9877-90bc1a50b653.png)"
   ]
  },
  {
   "cell_type": "markdown",
   "id": "c3784d16-30b7-4552-8bee-5e4c63588022",
   "metadata": {
    "jp-MarkdownHeadingCollapsed": true
   },
   "source": [
    "# BASIC SYNTAX"
   ]
  },
  {
   "cell_type": "code",
   "execution_count": 1,
   "id": "6416382f-69b4-4b1c-af86-497890921212",
   "metadata": {},
   "outputs": [
    {
     "data": {
      "text/html": [
       "'Hello World!'"
      ],
      "text/latex": [
       "'Hello World!'"
      ],
      "text/markdown": [
       "'Hello World!'"
      ],
      "text/plain": [
       "[1] \"Hello World!\""
      ]
     },
     "metadata": {},
     "output_type": "display_data"
    }
   ],
   "source": [
    "\"Hello World!\""
   ]
  },
  {
   "cell_type": "code",
   "execution_count": 2,
   "id": "bf5bc565-e6d7-4039-bd49-ab09eefbc3ff",
   "metadata": {},
   "outputs": [
    {
     "name": "stdout",
     "output_type": "stream",
     "text": [
      "[1] \"#WinningAtUni\"\n"
     ]
    }
   ],
   "source": [
    "print(\"#WinningAtUni\")"
   ]
  },
  {
   "cell_type": "code",
   "execution_count": 3,
   "id": "fc61ea69-ef59-46e4-8a99-87b47f1e3ccd",
   "metadata": {},
   "outputs": [
    {
     "name": "stdout",
     "output_type": "stream",
     "text": [
      "To write without quotes"
     ]
    }
   ],
   "source": [
    "cat(\"To write without quotes\")"
   ]
  },
  {
   "cell_type": "code",
   "execution_count": 5,
   "id": "681768c3-3dae-4504-83ee-5a63e40edd1f",
   "metadata": {},
   "outputs": [
    {
     "name": "stdout",
     "output_type": "stream",
     "text": [
      "Simple Assignment \n",
      "Left Assignment \n",
      "Right Assignment"
     ]
    }
   ],
   "source": [
    "# Assignment\n",
    "\n",
    "var1 = \"Simple Assignment\"\n",
    "var2 <- \"Left Assignment\"\n",
    "\"Right Assignment\" -> var3\n",
    "\n",
    "cat(var1,\"\\n\")\n",
    "cat(var2,\"\\n\")\n",
    "cat(var3)"
   ]
  },
  {
   "cell_type": "code",
   "execution_count": 6,
   "id": "88a104c8-8f65-4897-bcdb-73e74442b636",
   "metadata": {},
   "outputs": [
    {
     "name": "stdout",
     "output_type": "stream",
     "text": [
      "[1] \"Simple Assignment\"\n",
      "[1] \"Left Assignment\"\n",
      "[1] \"Right Assignment\"\n"
     ]
    }
   ],
   "source": [
    "print(var1)\n",
    "print(var2)\n",
    "print(var3)"
   ]
  },
  {
   "cell_type": "code",
   "execution_count": 7,
   "id": "af356f9e-a756-4864-b1c6-8fbbe75edc58",
   "metadata": {},
   "outputs": [],
   "source": [
    "# Single line comment\n",
    "\n",
    "if(FALSE){\n",
    "    \"This is \n",
    "    multiline comment.\"\n",
    "}"
   ]
  },
  {
   "attachments": {
    "f2b9ee4d-c20b-45ed-b59e-803a87a03bd6.png": {
     "image/png": "[encoded data removed]"
    }
   },
   "cell_type": "markdown",
   "id": "e914e29a-db65-49dc-8fdd-0c821f788275",
   "metadata": {
    "jp-MarkdownHeadingCollapsed": true
   },
   "source": [
    "# Keywords\n",
    "\n",
    "![image.png](attachment:f2b9ee4d-c20b-45ed-b59e-803a87a03bd6.png)\n",
    "\n",
    "# Variables and Constants\n",
    "\n",
    "## Rules for writing the identifiers\n",
    "- Identifiers can be a combination of letters, digits, period (.) and underscore (_).\n",
    "- It must start with a letter or a period. If it starts with a period, it cannot be followed by a digit.\n",
    "- Reserved words in R cannot be used as identifiers.\n",
    "\n",
    "## Valid identifiers\n",
    "total, Sum, .fine.with.dot, this_is_acceptable, Number5 \n",
    "\n",
    "## Invalid identifiers\n",
    "tot@l, 5um, _fine, TRUE, .0ne \n",
    "\n",
    "## Best practices\n",
    "- Earlier versions of R used underscore (_) as an assignment operator. So, the period (.) was used extensively in variable names having multiple words. - Current versions of R support underscore as a valid identifier but it is good practice to use period as word separators.\n",
    "- For example, a.variable.name is preferred over a_variable_name or alternatively we could use camel case as aVariableName "
   ]
  },
  {
   "cell_type": "markdown",
   "id": "3b099769-d319-4f2f-bcba-3b42d3c9078d",
   "metadata": {
    "jp-MarkdownHeadingCollapsed": true
   },
   "source": [
    "# Constants"
   ]
  },
  {
   "cell_type": "code",
   "execution_count": 18,
   "id": "53737190-9b5c-4f55-8da4-930264bce58d",
   "metadata": {},
   "outputs": [
    {
     "name": "stdout",
     "output_type": "stream",
     "text": [
      "[1] \"double\"\n",
      "[1] \"integer\"\n",
      "[1] \"complex\"\n"
     ]
    }
   ],
   "source": [
    "# Numeric Constants\n",
    "print(typeof(8))\n",
    "print(typeof(8L))\n",
    "print(typeof(8i))"
   ]
  },
  {
   "cell_type": "code",
   "execution_count": 17,
   "id": "7ac273db-e010-4031-a4c3-6599f3316fc7",
   "metadata": {},
   "outputs": [
    {
     "data": {
      "text/html": [
       "255"
      ],
      "text/latex": [
       "255"
      ],
      "text/markdown": [
       "255"
      ],
      "text/plain": [
       "[1] 255"
      ]
     },
     "metadata": {},
     "output_type": "display_data"
    },
    {
     "data": {
      "text/html": [
       "16"
      ],
      "text/latex": [
       "16"
      ],
      "text/markdown": [
       "16"
      ],
      "text/plain": [
       "[1] 16"
      ]
     },
     "metadata": {},
     "output_type": "display_data"
    }
   ],
   "source": [
    "# Numeric constants preceded by 0x or 0X are interpreted as hexadecimal numbers. \n",
    "0xff\n",
    "0XF + 1"
   ]
  },
  {
   "cell_type": "code",
   "execution_count": 19,
   "id": "b0272273-747a-4be3-9870-ed94321ed52e",
   "metadata": {},
   "outputs": [
    {
     "data": {
      "text/html": [
       "'example'"
      ],
      "text/latex": [
       "'example'"
      ],
      "text/markdown": [
       "'example'"
      ],
      "text/plain": [
       "[1] \"example\""
      ]
     },
     "metadata": {},
     "output_type": "display_data"
    },
    {
     "data": {
      "text/html": [
       "'character'"
      ],
      "text/latex": [
       "'character'"
      ],
      "text/markdown": [
       "'character'"
      ],
      "text/plain": [
       "[1] \"character\""
      ]
     },
     "metadata": {},
     "output_type": "display_data"
    }
   ],
   "source": [
    "# Character Constants\n",
    "'example'\n",
    "typeof('8')"
   ]
  },
  {
   "cell_type": "code",
   "execution_count": 20,
   "id": "eb96ddb2-12b5-4125-b328-a3792d417642",
   "metadata": {},
   "outputs": [
    {
     "data": {
      "text/html": [
       "<ol class=list-inline>\n",
       "\t<li>'A'</li>\n",
       "\t<li>'B'</li>\n",
       "\t<li>'C'</li>\n",
       "\t<li>'D'</li>\n",
       "\t<li>'E'</li>\n",
       "\t<li>'F'</li>\n",
       "\t<li>'G'</li>\n",
       "\t<li>'H'</li>\n",
       "\t<li>'I'</li>\n",
       "\t<li>'J'</li>\n",
       "\t<li>'K'</li>\n",
       "\t<li>'L'</li>\n",
       "\t<li>'M'</li>\n",
       "\t<li>'N'</li>\n",
       "\t<li>'O'</li>\n",
       "\t<li>'P'</li>\n",
       "\t<li>'Q'</li>\n",
       "\t<li>'R'</li>\n",
       "\t<li>'S'</li>\n",
       "\t<li>'T'</li>\n",
       "\t<li>'U'</li>\n",
       "\t<li>'V'</li>\n",
       "\t<li>'W'</li>\n",
       "\t<li>'X'</li>\n",
       "\t<li>'Y'</li>\n",
       "\t<li>'Z'</li>\n",
       "</ol>\n"
      ],
      "text/latex": [
       "\\begin{enumerate*}\n",
       "\\item 'A'\n",
       "\\item 'B'\n",
       "\\item 'C'\n",
       "\\item 'D'\n",
       "\\item 'E'\n",
       "\\item 'F'\n",
       "\\item 'G'\n",
       "\\item 'H'\n",
       "\\item 'I'\n",
       "\\item 'J'\n",
       "\\item 'K'\n",
       "\\item 'L'\n",
       "\\item 'M'\n",
       "\\item 'N'\n",
       "\\item 'O'\n",
       "\\item 'P'\n",
       "\\item 'Q'\n",
       "\\item 'R'\n",
       "\\item 'S'\n",
       "\\item 'T'\n",
       "\\item 'U'\n",
       "\\item 'V'\n",
       "\\item 'W'\n",
       "\\item 'X'\n",
       "\\item 'Y'\n",
       "\\item 'Z'\n",
       "\\end{enumerate*}\n"
      ],
      "text/markdown": [
       "1. 'A'\n",
       "2. 'B'\n",
       "3. 'C'\n",
       "4. 'D'\n",
       "5. 'E'\n",
       "6. 'F'\n",
       "7. 'G'\n",
       "8. 'H'\n",
       "9. 'I'\n",
       "10. 'J'\n",
       "11. 'K'\n",
       "12. 'L'\n",
       "13. 'M'\n",
       "14. 'N'\n",
       "15. 'O'\n",
       "16. 'P'\n",
       "17. 'Q'\n",
       "18. 'R'\n",
       "19. 'S'\n",
       "20. 'T'\n",
       "21. 'U'\n",
       "22. 'V'\n",
       "23. 'W'\n",
       "24. 'X'\n",
       "25. 'Y'\n",
       "26. 'Z'\n",
       "\n",
       "\n"
      ],
      "text/plain": [
       " [1] \"A\" \"B\" \"C\" \"D\" \"E\" \"F\" \"G\" \"H\" \"I\" \"J\" \"K\" \"L\" \"M\" \"N\" \"O\" \"P\" \"Q\" \"R\" \"S\"\n",
       "[20] \"T\" \"U\" \"V\" \"W\" \"X\" \"Y\" \"Z\""
      ]
     },
     "metadata": {},
     "output_type": "display_data"
    },
    {
     "data": {
      "text/html": [
       "<ol class=list-inline>\n",
       "\t<li>'a'</li>\n",
       "\t<li>'b'</li>\n",
       "\t<li>'c'</li>\n",
       "\t<li>'d'</li>\n",
       "\t<li>'e'</li>\n",
       "\t<li>'f'</li>\n",
       "\t<li>'g'</li>\n",
       "\t<li>'h'</li>\n",
       "\t<li>'i'</li>\n",
       "\t<li>'j'</li>\n",
       "\t<li>'k'</li>\n",
       "\t<li>'l'</li>\n",
       "\t<li>'m'</li>\n",
       "\t<li>'n'</li>\n",
       "\t<li>'o'</li>\n",
       "\t<li>'p'</li>\n",
       "\t<li>'q'</li>\n",
       "\t<li>'r'</li>\n",
       "\t<li>'s'</li>\n",
       "\t<li>'t'</li>\n",
       "\t<li>'u'</li>\n",
       "\t<li>'v'</li>\n",
       "\t<li>'w'</li>\n",
       "\t<li>'x'</li>\n",
       "\t<li>'y'</li>\n",
       "\t<li>'z'</li>\n",
       "</ol>\n"
      ],
      "text/latex": [
       "\\begin{enumerate*}\n",
       "\\item 'a'\n",
       "\\item 'b'\n",
       "\\item 'c'\n",
       "\\item 'd'\n",
       "\\item 'e'\n",
       "\\item 'f'\n",
       "\\item 'g'\n",
       "\\item 'h'\n",
       "\\item 'i'\n",
       "\\item 'j'\n",
       "\\item 'k'\n",
       "\\item 'l'\n",
       "\\item 'm'\n",
       "\\item 'n'\n",
       "\\item 'o'\n",
       "\\item 'p'\n",
       "\\item 'q'\n",
       "\\item 'r'\n",
       "\\item 's'\n",
       "\\item 't'\n",
       "\\item 'u'\n",
       "\\item 'v'\n",
       "\\item 'w'\n",
       "\\item 'x'\n",
       "\\item 'y'\n",
       "\\item 'z'\n",
       "\\end{enumerate*}\n"
      ],
      "text/markdown": [
       "1. 'a'\n",
       "2. 'b'\n",
       "3. 'c'\n",
       "4. 'd'\n",
       "5. 'e'\n",
       "6. 'f'\n",
       "7. 'g'\n",
       "8. 'h'\n",
       "9. 'i'\n",
       "10. 'j'\n",
       "11. 'k'\n",
       "12. 'l'\n",
       "13. 'm'\n",
       "14. 'n'\n",
       "15. 'o'\n",
       "16. 'p'\n",
       "17. 'q'\n",
       "18. 'r'\n",
       "19. 's'\n",
       "20. 't'\n",
       "21. 'u'\n",
       "22. 'v'\n",
       "23. 'w'\n",
       "24. 'x'\n",
       "25. 'y'\n",
       "26. 'z'\n",
       "\n",
       "\n"
      ],
      "text/plain": [
       " [1] \"a\" \"b\" \"c\" \"d\" \"e\" \"f\" \"g\" \"h\" \"i\" \"j\" \"k\" \"l\" \"m\" \"n\" \"o\" \"p\" \"q\" \"r\" \"s\"\n",
       "[20] \"t\" \"u\" \"v\" \"w\" \"x\" \"y\" \"z\""
      ]
     },
     "metadata": {},
     "output_type": "display_data"
    },
    {
     "data": {
      "text/html": [
       "3.14159265358979"
      ],
      "text/latex": [
       "3.14159265358979"
      ],
      "text/markdown": [
       "3.14159265358979"
      ],
      "text/plain": [
       "[1] 3.141593"
      ]
     },
     "metadata": {},
     "output_type": "display_data"
    }
   ],
   "source": [
    "# Built-in constants\n",
    "LETTERS\n",
    "letters\n",
    "pi"
   ]
  },
  {
   "cell_type": "code",
   "execution_count": 21,
   "id": "a51a16e2-a94f-4c74-ad9b-8faefe49a0ce",
   "metadata": {},
   "outputs": [
    {
     "data": {
      "text/html": [
       "<ol class=list-inline>\n",
       "\t<li>'January'</li>\n",
       "\t<li>'February'</li>\n",
       "\t<li>'March'</li>\n",
       "\t<li>'April'</li>\n",
       "\t<li>'May'</li>\n",
       "\t<li>'June'</li>\n",
       "\t<li>'July'</li>\n",
       "\t<li>'August'</li>\n",
       "\t<li>'September'</li>\n",
       "\t<li>'October'</li>\n",
       "\t<li>'November'</li>\n",
       "\t<li>'December'</li>\n",
       "</ol>\n"
      ],
      "text/latex": [
       "\\begin{enumerate*}\n",
       "\\item 'January'\n",
       "\\item 'February'\n",
       "\\item 'March'\n",
       "\\item 'April'\n",
       "\\item 'May'\n",
       "\\item 'June'\n",
       "\\item 'July'\n",
       "\\item 'August'\n",
       "\\item 'September'\n",
       "\\item 'October'\n",
       "\\item 'November'\n",
       "\\item 'December'\n",
       "\\end{enumerate*}\n"
      ],
      "text/markdown": [
       "1. 'January'\n",
       "2. 'February'\n",
       "3. 'March'\n",
       "4. 'April'\n",
       "5. 'May'\n",
       "6. 'June'\n",
       "7. 'July'\n",
       "8. 'August'\n",
       "9. 'September'\n",
       "10. 'October'\n",
       "11. 'November'\n",
       "12. 'December'\n",
       "\n",
       "\n"
      ],
      "text/plain": [
       " [1] \"January\"   \"February\"  \"March\"     \"April\"     \"May\"       \"June\"     \n",
       " [7] \"July\"      \"August\"    \"September\" \"October\"   \"November\"  \"December\" "
      ]
     },
     "metadata": {},
     "output_type": "display_data"
    },
    {
     "data": {
      "text/html": [
       "<ol class=list-inline>\n",
       "\t<li>'Jan'</li>\n",
       "\t<li>'Feb'</li>\n",
       "\t<li>'Mar'</li>\n",
       "\t<li>'Apr'</li>\n",
       "\t<li>'May'</li>\n",
       "\t<li>'Jun'</li>\n",
       "\t<li>'Jul'</li>\n",
       "\t<li>'Aug'</li>\n",
       "\t<li>'Sep'</li>\n",
       "\t<li>'Oct'</li>\n",
       "\t<li>'Nov'</li>\n",
       "\t<li>'Dec'</li>\n",
       "</ol>\n"
      ],
      "text/latex": [
       "\\begin{enumerate*}\n",
       "\\item 'Jan'\n",
       "\\item 'Feb'\n",
       "\\item 'Mar'\n",
       "\\item 'Apr'\n",
       "\\item 'May'\n",
       "\\item 'Jun'\n",
       "\\item 'Jul'\n",
       "\\item 'Aug'\n",
       "\\item 'Sep'\n",
       "\\item 'Oct'\n",
       "\\item 'Nov'\n",
       "\\item 'Dec'\n",
       "\\end{enumerate*}\n"
      ],
      "text/markdown": [
       "1. 'Jan'\n",
       "2. 'Feb'\n",
       "3. 'Mar'\n",
       "4. 'Apr'\n",
       "5. 'May'\n",
       "6. 'Jun'\n",
       "7. 'Jul'\n",
       "8. 'Aug'\n",
       "9. 'Sep'\n",
       "10. 'Oct'\n",
       "11. 'Nov'\n",
       "12. 'Dec'\n",
       "\n",
       "\n"
      ],
      "text/plain": [
       " [1] \"Jan\" \"Feb\" \"Mar\" \"Apr\" \"May\" \"Jun\" \"Jul\" \"Aug\" \"Sep\" \"Oct\" \"Nov\" \"Dec\""
      ]
     },
     "metadata": {},
     "output_type": "display_data"
    }
   ],
   "source": [
    "month.name\n",
    "month.abb"
   ]
  },
  {
   "cell_type": "code",
   "execution_count": 22,
   "id": "fbb04122-3b9f-4af5-b17a-b987c6713dcc",
   "metadata": {},
   "outputs": [
    {
     "data": {
      "text/html": [
       "3.14159265358979"
      ],
      "text/latex": [
       "3.14159265358979"
      ],
      "text/markdown": [
       "3.14159265358979"
      ],
      "text/plain": [
       "[1] 3.141593"
      ]
     },
     "metadata": {},
     "output_type": "display_data"
    },
    {
     "data": {
      "text/html": [
       "85"
      ],
      "text/latex": [
       "85"
      ],
      "text/markdown": [
       "85"
      ],
      "text/plain": [
       "[1] 85"
      ]
     },
     "metadata": {},
     "output_type": "display_data"
    }
   ],
   "source": [
    "# But it is not good to rely on these, as they are implemented as variables whose values can be changed. \n",
    "pi\n",
    "pi <- 85\n",
    "pi"
   ]
  },
  {
   "cell_type": "markdown",
   "id": "5f39044a-6de3-4723-acfe-085bad7892a1",
   "metadata": {
    "jp-MarkdownHeadingCollapsed": true
   },
   "source": [
    "# Data Types\n",
    "\n",
    "Variables are nothing but *reserved memory locations to store values*.\n",
    "\n",
    "There are many types of Robjects. The frequently used ones are − \n",
    "- Vectors\n",
    "- Lists\n",
    "- Matrices\n",
    "- Arrays\n",
    "- Factors\n",
    "- Data Frames "
   ]
  },
  {
   "cell_type": "code",
   "execution_count": 23,
   "id": "e48585f4-6506-4ac5-9364-48a26ad07937",
   "metadata": {},
   "outputs": [
    {
     "data": {
      "text/html": [
       "'logical'"
      ],
      "text/latex": [
       "'logical'"
      ],
      "text/markdown": [
       "'logical'"
      ],
      "text/plain": [
       "[1] \"logical\""
      ]
     },
     "metadata": {},
     "output_type": "display_data"
    }
   ],
   "source": [
    "v <- TRUE\n",
    "class(v)"
   ]
  },
  {
   "cell_type": "code",
   "execution_count": 24,
   "id": "700235b0-8ef9-4f2f-a20b-3374186f7dd0",
   "metadata": {},
   "outputs": [
    {
     "data": {
      "text/plain": [
       "[1] 48 65 6c 6c 6f"
      ]
     },
     "metadata": {},
     "output_type": "display_data"
    },
    {
     "data": {
      "text/html": [
       "'raw'"
      ],
      "text/latex": [
       "'raw'"
      ],
      "text/markdown": [
       "'raw'"
      ],
      "text/plain": [
       "[1] \"raw\""
      ]
     },
     "metadata": {},
     "output_type": "display_data"
    }
   ],
   "source": [
    "v <- charToRaw(\"Hello\")\n",
    "v\n",
    "class(v)"
   ]
  },
  {
   "cell_type": "markdown",
   "id": "cebbf7f7-1726-4b80-a605-6d546402a19d",
   "metadata": {
    "jp-MarkdownHeadingCollapsed": true
   },
   "source": [
    "### Type Verification\n",
    "`is.data_type(object)`"
   ]
  },
  {
   "cell_type": "code",
   "execution_count": 64,
   "id": "b4d48b2a-0f23-4c7d-b5f8-cab24f7a9abe",
   "metadata": {},
   "outputs": [
    {
     "name": "stdout",
     "output_type": "stream",
     "text": [
      "[1] TRUE\n",
      "[1] TRUE\n",
      "[1] TRUE\n",
      "[1] TRUE\n",
      "[1] TRUE\n",
      "[1] FALSE\n",
      "[1] FALSE\n"
     ]
    }
   ],
   "source": [
    "# Logical\n",
    "print(is.logical(TRUE))\n",
    " \n",
    "# Integer\n",
    "print(is.integer(3L))\n",
    " \n",
    "# Numeric\n",
    "print(is.numeric(10.5))\n",
    " \n",
    "# Complex\n",
    "print(is.complex(1+2i))\n",
    " \n",
    "# Character\n",
    "print(is.character(\"12-04-2020\"))\n",
    " \n",
    "print(is.integer(\"a\"))\n",
    " \n",
    "print(is.numeric(2+3i))"
   ]
  },
  {
   "cell_type": "markdown",
   "id": "0cd5c3c1-a2c4-42ba-8a52-2548e484f92b",
   "metadata": {
    "jp-MarkdownHeadingCollapsed": true
   },
   "source": [
    "### Converting data type of one object to another\n",
    "`as.data_type(object) `"
   ]
  },
  {
   "cell_type": "code",
   "execution_count": 65,
   "id": "d0a7c1cf-e593-4262-a698-d21dbb8bc541",
   "metadata": {},
   "outputs": [
    {
     "name": "stdout",
     "output_type": "stream",
     "text": [
      "[1] 1\n",
      "[1] 3+0i\n",
      "[1] TRUE\n",
      "[1] \"1+2i\"\n"
     ]
    },
    {
     "name": "stderr",
     "output_type": "stream",
     "text": [
      "Warning message in print(as.numeric(\"12-04-2020\")):\n",
      "\"NAs introduced by coercion\""
     ]
    },
    {
     "name": "stdout",
     "output_type": "stream",
     "text": [
      "[1] NA\n"
     ]
    }
   ],
   "source": [
    "# Logical\n",
    "print(as.numeric(TRUE))\n",
    " \n",
    "# Integer\n",
    "print(as.complex(3L))\n",
    " \n",
    "# Numeric\n",
    "print(as.logical(10.5))\n",
    " \n",
    "# Complex\n",
    "print(as.character(1+2i))\n",
    " \n",
    "# Can't possible\n",
    "print(as.numeric(\"12-04-2020\"))"
   ]
  },
  {
   "cell_type": "markdown",
   "id": "76aa2e67-4de2-41c2-bb61-39ada1a8dca6",
   "metadata": {
    "jp-MarkdownHeadingCollapsed": true
   },
   "source": [
    "## Vector\n",
    "\n",
    "A vector is the most common and basic data structure in R and is pretty much the workhorse of R. Vectors can be of two types: \n",
    "- atomic vectors\n",
    "- lists "
   ]
  },
  {
   "cell_type": "code",
   "execution_count": 26,
   "id": "6f4136b4-a88e-4a2f-a4a7-67f9f83daf96",
   "metadata": {},
   "outputs": [
    {
     "data": {
      "text/html": [],
      "text/latex": [],
      "text/markdown": [],
      "text/plain": [
       "logical(0)"
      ]
     },
     "metadata": {},
     "output_type": "display_data"
    },
    {
     "data": {
      "text/html": [
       "<ol class=list-inline>\n",
       "\t<li>''</li>\n",
       "\t<li>''</li>\n",
       "\t<li>''</li>\n",
       "</ol>\n"
      ],
      "text/latex": [
       "\\begin{enumerate*}\n",
       "\\item ''\n",
       "\\item ''\n",
       "\\item ''\n",
       "\\end{enumerate*}\n"
      ],
      "text/markdown": [
       "1. ''\n",
       "2. ''\n",
       "3. ''\n",
       "\n",
       "\n"
      ],
      "text/plain": [
       "[1] \"\" \"\" \"\""
      ]
     },
     "metadata": {},
     "output_type": "display_data"
    },
    {
     "data": {
      "text/html": [
       "<ol class=list-inline>\n",
       "\t<li>0</li>\n",
       "\t<li>0</li>\n",
       "\t<li>0</li>\n",
       "</ol>\n"
      ],
      "text/latex": [
       "\\begin{enumerate*}\n",
       "\\item 0\n",
       "\\item 0\n",
       "\\item 0\n",
       "\\end{enumerate*}\n"
      ],
      "text/markdown": [
       "1. 0\n",
       "2. 0\n",
       "3. 0\n",
       "\n",
       "\n"
      ],
      "text/plain": [
       "[1] 0 0 0"
      ]
     },
     "metadata": {},
     "output_type": "display_data"
    },
    {
     "data": {
      "text/html": [
       "<ol class=list-inline>\n",
       "\t<li>0</li>\n",
       "\t<li>0</li>\n",
       "\t<li>0</li>\n",
       "</ol>\n"
      ],
      "text/latex": [
       "\\begin{enumerate*}\n",
       "\\item 0\n",
       "\\item 0\n",
       "\\item 0\n",
       "\\end{enumerate*}\n"
      ],
      "text/markdown": [
       "1. 0\n",
       "2. 0\n",
       "3. 0\n",
       "\n",
       "\n"
      ],
      "text/plain": [
       "[1] 0 0 0"
      ]
     },
     "metadata": {},
     "output_type": "display_data"
    },
    {
     "data": {
      "text/html": [
       "<ol class=list-inline>\n",
       "\t<li>FALSE</li>\n",
       "\t<li>FALSE</li>\n",
       "\t<li>FALSE</li>\n",
       "</ol>\n"
      ],
      "text/latex": [
       "\\begin{enumerate*}\n",
       "\\item FALSE\n",
       "\\item FALSE\n",
       "\\item FALSE\n",
       "\\end{enumerate*}\n"
      ],
      "text/markdown": [
       "1. FALSE\n",
       "2. FALSE\n",
       "3. FALSE\n",
       "\n",
       "\n"
      ],
      "text/plain": [
       "[1] FALSE FALSE FALSE"
      ]
     },
     "metadata": {},
     "output_type": "display_data"
    }
   ],
   "source": [
    "# Atomic Vectors: A vector can be a vector of characters, logical, integers or numeric. \n",
    "x <- vector() # with a pre-defined length \n",
    "x\n",
    "x <- vector(length = 3) # with a length and type \n",
    "vector(\"character\", length = 3) \n",
    "vector(\"numeric\", length = 3) \n",
    "vector(\"integer\", length = 3) \n",
    "vector(\"logical\", length = 3)"
   ]
  },
  {
   "cell_type": "code",
   "execution_count": 28,
   "id": "3b1c6757-2172-466a-9d2b-be74e8d157e5",
   "metadata": {},
   "outputs": [
    {
     "data": {
      "text/html": [
       "'character'"
      ],
      "text/latex": [
       "'character'"
      ],
      "text/markdown": [
       "'character'"
      ],
      "text/plain": [
       "[1] \"character\""
      ]
     },
     "metadata": {},
     "output_type": "display_data"
    },
    {
     "data": {
      "text/html": [
       "4"
      ],
      "text/latex": [
       "4"
      ],
      "text/markdown": [
       "4"
      ],
      "text/plain": [
       "[1] 4"
      ]
     },
     "metadata": {},
     "output_type": "display_data"
    },
    {
     "data": {
      "text/html": [
       "'character'"
      ],
      "text/latex": [
       "'character'"
      ],
      "text/markdown": [
       "'character'"
      ],
      "text/plain": [
       "[1] \"character\""
      ]
     },
     "metadata": {},
     "output_type": "display_data"
    },
    {
     "name": "stdout",
     "output_type": "stream",
     "text": [
      " chr [1:4] \"Alec\" \"Dan\" \"Rob\" \"Rich\"\n"
     ]
    }
   ],
   "source": [
    "# The general pattern is vector(class of object, length). You can also create vectors by concatenating them using the c() function. \n",
    "z <- c(\"Alec\", \"Dan\", \"Rob\", \"Rich\") \n",
    "typeof(z) \n",
    "length(z) \n",
    "class(z) \n",
    "str(z)"
   ]
  },
  {
   "cell_type": "code",
   "execution_count": 30,
   "id": "b7791d04-7b87-458f-b33d-9104854f90e7",
   "metadata": {},
   "outputs": [
    {
     "data": {
      "text/html": [
       "<ol class=list-inline>\n",
       "\t<li>1</li>\n",
       "\t<li>2</li>\n",
       "\t<li>3</li>\n",
       "\t<li>4</li>\n",
       "\t<li>5</li>\n",
       "</ol>\n"
      ],
      "text/latex": [
       "\\begin{enumerate*}\n",
       "\\item 1\n",
       "\\item 2\n",
       "\\item 3\n",
       "\\item 4\n",
       "\\item 5\n",
       "\\end{enumerate*}\n"
      ],
      "text/markdown": [
       "1. 1\n",
       "2. 2\n",
       "3. 3\n",
       "4. 4\n",
       "5. 5\n",
       "\n",
       "\n"
      ],
      "text/plain": [
       "[1] 1 2 3 4 5"
      ]
     },
     "metadata": {},
     "output_type": "display_data"
    },
    {
     "data": {
      "text/html": [
       "<ol class=list-inline>\n",
       "\t<li>1</li>\n",
       "\t<li>2</li>\n",
       "\t<li>3</li>\n",
       "\t<li>4</li>\n",
       "\t<li>5</li>\n",
       "</ol>\n"
      ],
      "text/latex": [
       "\\begin{enumerate*}\n",
       "\\item 1\n",
       "\\item 2\n",
       "\\item 3\n",
       "\\item 4\n",
       "\\item 5\n",
       "\\end{enumerate*}\n"
      ],
      "text/markdown": [
       "1. 1\n",
       "2. 2\n",
       "3. 3\n",
       "4. 4\n",
       "5. 5\n",
       "\n",
       "\n"
      ],
      "text/plain": [
       "[1] 1 2 3 4 5"
      ]
     },
     "metadata": {},
     "output_type": "display_data"
    },
    {
     "data": {
      "text/html": [
       "<ol class=list-inline>\n",
       "\t<li>1</li>\n",
       "\t<li>1.5</li>\n",
       "\t<li>2</li>\n",
       "\t<li>2.5</li>\n",
       "\t<li>3</li>\n",
       "\t<li>3.5</li>\n",
       "\t<li>4</li>\n",
       "\t<li>4.5</li>\n",
       "\t<li>5</li>\n",
       "</ol>\n"
      ],
      "text/latex": [
       "\\begin{enumerate*}\n",
       "\\item 1\n",
       "\\item 1.5\n",
       "\\item 2\n",
       "\\item 2.5\n",
       "\\item 3\n",
       "\\item 3.5\n",
       "\\item 4\n",
       "\\item 4.5\n",
       "\\item 5\n",
       "\\end{enumerate*}\n"
      ],
      "text/markdown": [
       "1. 1\n",
       "2. 1.5\n",
       "3. 2\n",
       "4. 2.5\n",
       "5. 3\n",
       "6. 3.5\n",
       "7. 4\n",
       "8. 4.5\n",
       "9. 5\n",
       "\n",
       "\n"
      ],
      "text/plain": [
       "[1] 1.0 1.5 2.0 2.5 3.0 3.5 4.0 4.5 5.0"
      ]
     },
     "metadata": {},
     "output_type": "display_data"
    }
   ],
   "source": [
    "# You can also create vectors as sequence of numbers \n",
    "series <- 1:5 \n",
    "series\n",
    "seq(5) \n",
    "seq(1, 5, by = 0.5) "
   ]
  },
  {
   "cell_type": "code",
   "execution_count": 32,
   "id": "49d56a5a-49e2-4fb4-8f3e-dd5c10a263dd",
   "metadata": {},
   "outputs": [
    {
     "data": {
      "text/html": [
       "Inf"
      ],
      "text/latex": [
       "Inf"
      ],
      "text/markdown": [
       "Inf"
      ],
      "text/plain": [
       "[1] Inf"
      ]
     },
     "metadata": {},
     "output_type": "display_data"
    },
    {
     "data": {
      "text/html": [
       "0"
      ],
      "text/latex": [
       "0"
      ],
      "text/markdown": [
       "0"
      ],
      "text/plain": [
       "[1] 0"
      ]
     },
     "metadata": {},
     "output_type": "display_data"
    }
   ],
   "source": [
    "1/0\n",
    "1/Inf"
   ]
  },
  {
   "cell_type": "code",
   "execution_count": 33,
   "id": "cec4c7f7-7fff-4c68-9e5d-b58feaf072b1",
   "metadata": {},
   "outputs": [
    {
     "data": {
      "text/html": [
       "NaN"
      ],
      "text/latex": [
       "NaN"
      ],
      "text/markdown": [
       "NaN"
      ],
      "text/plain": [
       "[1] NaN"
      ]
     },
     "metadata": {},
     "output_type": "display_data"
    }
   ],
   "source": [
    "0/0"
   ]
  },
  {
   "cell_type": "markdown",
   "id": "d19fca47-0e8b-4a5e-94e0-7ebbc139c4ac",
   "metadata": {},
   "source": [
    "The below is called implicit coercion. The coersion rule goes `logical -> integer -> numeric -> complex -> character`. "
   ]
  },
  {
   "cell_type": "code",
   "execution_count": 34,
   "id": "616ab902-b859-4021-b8e8-525e47ecc71f",
   "metadata": {},
   "outputs": [
    {
     "data": {
      "text/html": [
       "<ol class=list-inline>\n",
       "\t<li>'1.7'</li>\n",
       "\t<li>'a'</li>\n",
       "</ol>\n"
      ],
      "text/latex": [
       "\\begin{enumerate*}\n",
       "\\item '1.7'\n",
       "\\item 'a'\n",
       "\\end{enumerate*}\n"
      ],
      "text/markdown": [
       "1. '1.7'\n",
       "2. 'a'\n",
       "\n",
       "\n"
      ],
      "text/plain": [
       "[1] \"1.7\" \"a\"  "
      ]
     },
     "metadata": {},
     "output_type": "display_data"
    },
    {
     "data": {
      "text/html": [
       "<ol class=list-inline>\n",
       "\t<li>1</li>\n",
       "\t<li>2</li>\n",
       "</ol>\n"
      ],
      "text/latex": [
       "\\begin{enumerate*}\n",
       "\\item 1\n",
       "\\item 2\n",
       "\\end{enumerate*}\n"
      ],
      "text/markdown": [
       "1. 1\n",
       "2. 2\n",
       "\n",
       "\n"
      ],
      "text/plain": [
       "[1] 1 2"
      ]
     },
     "metadata": {},
     "output_type": "display_data"
    },
    {
     "data": {
      "text/html": [
       "<ol class=list-inline>\n",
       "\t<li>'a'</li>\n",
       "\t<li>'TRUE'</li>\n",
       "</ol>\n"
      ],
      "text/latex": [
       "\\begin{enumerate*}\n",
       "\\item 'a'\n",
       "\\item 'TRUE'\n",
       "\\end{enumerate*}\n"
      ],
      "text/markdown": [
       "1. 'a'\n",
       "2. 'TRUE'\n",
       "\n",
       "\n"
      ],
      "text/plain": [
       "[1] \"a\"    \"TRUE\""
      ]
     },
     "metadata": {},
     "output_type": "display_data"
    }
   ],
   "source": [
    "xx <- c(1.7, \"a\") \n",
    "xx\n",
    "xx <- c(TRUE, 2) \n",
    "xx\n",
    "xx <- c(\"a\", TRUE) \n",
    "xx"
   ]
  },
  {
   "cell_type": "markdown",
   "id": "f6488c60-a6dc-464c-90f8-c53e2bc6c237",
   "metadata": {},
   "source": [
    "You can also coerce vectors explicitly using the `as.<class_name>`. Example"
   ]
  },
  {
   "cell_type": "code",
   "execution_count": 35,
   "id": "1ce5c125-9e1a-469a-b5f7-8b4ba016a274",
   "metadata": {},
   "outputs": [
    {
     "data": {
      "text/html": [
       "<ol class=list-inline>\n",
       "\t<li>0</li>\n",
       "\t<li>1</li>\n",
       "\t<li>2</li>\n",
       "\t<li>3</li>\n",
       "\t<li>4</li>\n",
       "\t<li>5</li>\n",
       "\t<li>6</li>\n",
       "</ol>\n"
      ],
      "text/latex": [
       "\\begin{enumerate*}\n",
       "\\item 0\n",
       "\\item 1\n",
       "\\item 2\n",
       "\\item 3\n",
       "\\item 4\n",
       "\\item 5\n",
       "\\item 6\n",
       "\\end{enumerate*}\n"
      ],
      "text/markdown": [
       "1. 0\n",
       "2. 1\n",
       "3. 2\n",
       "4. 3\n",
       "5. 4\n",
       "6. 5\n",
       "7. 6\n",
       "\n",
       "\n"
      ],
      "text/plain": [
       "[1] 0 1 2 3 4 5 6"
      ]
     },
     "metadata": {},
     "output_type": "display_data"
    },
    {
     "data": {
      "text/html": [
       "<ol class=list-inline>\n",
       "\t<li>FALSE</li>\n",
       "\t<li>TRUE</li>\n",
       "\t<li>TRUE</li>\n",
       "\t<li>TRUE</li>\n",
       "\t<li>TRUE</li>\n",
       "\t<li>TRUE</li>\n",
       "\t<li>TRUE</li>\n",
       "</ol>\n"
      ],
      "text/latex": [
       "\\begin{enumerate*}\n",
       "\\item FALSE\n",
       "\\item TRUE\n",
       "\\item TRUE\n",
       "\\item TRUE\n",
       "\\item TRUE\n",
       "\\item TRUE\n",
       "\\item TRUE\n",
       "\\end{enumerate*}\n"
      ],
      "text/markdown": [
       "1. FALSE\n",
       "2. TRUE\n",
       "3. TRUE\n",
       "4. TRUE\n",
       "5. TRUE\n",
       "6. TRUE\n",
       "7. TRUE\n",
       "\n",
       "\n"
      ],
      "text/plain": [
       "[1] FALSE  TRUE  TRUE  TRUE  TRUE  TRUE  TRUE"
      ]
     },
     "metadata": {},
     "output_type": "display_data"
    },
    {
     "data": {
      "text/html": [
       "<ol class=list-inline>\n",
       "\t<li>'0'</li>\n",
       "\t<li>'1'</li>\n",
       "\t<li>'2'</li>\n",
       "\t<li>'3'</li>\n",
       "\t<li>'4'</li>\n",
       "\t<li>'5'</li>\n",
       "\t<li>'6'</li>\n",
       "</ol>\n"
      ],
      "text/latex": [
       "\\begin{enumerate*}\n",
       "\\item '0'\n",
       "\\item '1'\n",
       "\\item '2'\n",
       "\\item '3'\n",
       "\\item '4'\n",
       "\\item '5'\n",
       "\\item '6'\n",
       "\\end{enumerate*}\n"
      ],
      "text/markdown": [
       "1. '0'\n",
       "2. '1'\n",
       "3. '2'\n",
       "4. '3'\n",
       "5. '4'\n",
       "6. '5'\n",
       "7. '6'\n",
       "\n",
       "\n"
      ],
      "text/plain": [
       "[1] \"0\" \"1\" \"2\" \"3\" \"4\" \"5\" \"6\""
      ]
     },
     "metadata": {},
     "output_type": "display_data"
    },
    {
     "data": {
      "text/html": [
       "<ol class=list-inline>\n",
       "\t<li>0+0i</li>\n",
       "\t<li>1+0i</li>\n",
       "\t<li>2+0i</li>\n",
       "\t<li>3+0i</li>\n",
       "\t<li>4+0i</li>\n",
       "\t<li>5+0i</li>\n",
       "\t<li>6+0i</li>\n",
       "</ol>\n"
      ],
      "text/latex": [
       "\\begin{enumerate*}\n",
       "\\item 0+0i\n",
       "\\item 1+0i\n",
       "\\item 2+0i\n",
       "\\item 3+0i\n",
       "\\item 4+0i\n",
       "\\item 5+0i\n",
       "\\item 6+0i\n",
       "\\end{enumerate*}\n"
      ],
      "text/markdown": [
       "1. 0+0i\n",
       "2. 1+0i\n",
       "3. 2+0i\n",
       "4. 3+0i\n",
       "5. 4+0i\n",
       "6. 5+0i\n",
       "7. 6+0i\n",
       "\n",
       "\n"
      ],
      "text/plain": [
       "[1] 0+0i 1+0i 2+0i 3+0i 4+0i 5+0i 6+0i"
      ]
     },
     "metadata": {},
     "output_type": "display_data"
    }
   ],
   "source": [
    "x <- 0:6 \n",
    "as.numeric(x) \n",
    "as.logical(x) \n",
    "as.character(x) \n",
    "as.complex(x) "
   ]
  },
  {
   "cell_type": "code",
   "execution_count": 36,
   "id": "533e0090-ade1-4c69-b613-d592aac61b21",
   "metadata": {},
   "outputs": [
    {
     "name": "stderr",
     "output_type": "stream",
     "text": [
      "Warning message in eval(expr, envir, enclos):\n",
      "\"NAs introduced by coercion\""
     ]
    },
    {
     "data": {
      "text/html": [
       "<ol class=list-inline>\n",
       "\t<li>&lt;NA&gt;</li>\n",
       "\t<li>&lt;NA&gt;</li>\n",
       "\t<li>&lt;NA&gt;</li>\n",
       "</ol>\n"
      ],
      "text/latex": [
       "\\begin{enumerate*}\n",
       "\\item <NA>\n",
       "\\item <NA>\n",
       "\\item <NA>\n",
       "\\end{enumerate*}\n"
      ],
      "text/markdown": [
       "1. &lt;NA&gt;\n",
       "2. &lt;NA&gt;\n",
       "3. &lt;NA&gt;\n",
       "\n",
       "\n"
      ],
      "text/plain": [
       "[1] NA NA NA"
      ]
     },
     "metadata": {},
     "output_type": "display_data"
    },
    {
     "data": {
      "text/html": [
       "<ol class=list-inline>\n",
       "\t<li>&lt;NA&gt;</li>\n",
       "\t<li>&lt;NA&gt;</li>\n",
       "\t<li>&lt;NA&gt;</li>\n",
       "</ol>\n"
      ],
      "text/latex": [
       "\\begin{enumerate*}\n",
       "\\item <NA>\n",
       "\\item <NA>\n",
       "\\item <NA>\n",
       "\\end{enumerate*}\n"
      ],
      "text/markdown": [
       "1. &lt;NA&gt;\n",
       "2. &lt;NA&gt;\n",
       "3. &lt;NA&gt;\n",
       "\n",
       "\n"
      ],
      "text/plain": [
       "[1] NA NA NA"
      ]
     },
     "metadata": {},
     "output_type": "display_data"
    }
   ],
   "source": [
    "x <- c(\"a\", \"b\", \"c\") \n",
    "as.numeric(x) \n",
    "as.logical(x) \n",
    "# both don't work "
   ]
  },
  {
   "cell_type": "code",
   "execution_count": 37,
   "id": "9987c6fa-297c-42db-a0ba-53dde20aae9a",
   "metadata": {},
   "outputs": [
    {
     "data": {
      "text/html": [
       "TRUE"
      ],
      "text/latex": [
       "TRUE"
      ],
      "text/markdown": [
       "TRUE"
      ],
      "text/plain": [
       "[1] TRUE"
      ]
     },
     "metadata": {},
     "output_type": "display_data"
    },
    {
     "data": {
      "text/html": [
       "FALSE"
      ],
      "text/latex": [
       "FALSE"
      ],
      "text/markdown": [
       "FALSE"
      ],
      "text/plain": [
       "[1] FALSE"
      ]
     },
     "metadata": {},
     "output_type": "display_data"
    },
    {
     "data": {
      "text/html": [
       "TRUE"
      ],
      "text/latex": [
       "TRUE"
      ],
      "text/markdown": [
       "TRUE"
      ],
      "text/plain": [
       "[1] TRUE"
      ]
     },
     "metadata": {},
     "output_type": "display_data"
    }
   ],
   "source": [
    "1 < '2'\n",
    "'1' > 2\n",
    "1 < 'a'"
   ]
  },
  {
   "cell_type": "markdown",
   "id": "4071e83d-d21a-4967-a94c-3598ad342542",
   "metadata": {
    "jp-MarkdownHeadingCollapsed": true
   },
   "source": [
    "## Matrix\n",
    "\n",
    "Matrices are a special vector in R. They are not a separate class of object but simply a vector but now with dimensions added on to it. Matrices have rows and columns. "
   ]
  },
  {
   "cell_type": "code",
   "execution_count": 38,
   "id": "908f3035-7dff-477a-8dc4-747fcae29d8f",
   "metadata": {},
   "outputs": [
    {
     "data": {
      "text/html": [
       "<table>\n",
       "<tbody>\n",
       "\t<tr><td>NA</td><td>NA</td></tr>\n",
       "\t<tr><td>NA</td><td>NA</td></tr>\n",
       "</tbody>\n",
       "</table>\n"
      ],
      "text/latex": [
       "\\begin{tabular}{ll}\n",
       "\t NA & NA\\\\\n",
       "\t NA & NA\\\\\n",
       "\\end{tabular}\n"
      ],
      "text/markdown": [
       "\n",
       "| NA | NA |\n",
       "| NA | NA |\n",
       "\n"
      ],
      "text/plain": [
       "     [,1] [,2]\n",
       "[1,] NA   NA  \n",
       "[2,] NA   NA  "
      ]
     },
     "metadata": {},
     "output_type": "display_data"
    },
    {
     "data": {
      "text/html": [
       "<ol class=list-inline>\n",
       "\t<li>2</li>\n",
       "\t<li>2</li>\n",
       "</ol>\n"
      ],
      "text/latex": [
       "\\begin{enumerate*}\n",
       "\\item 2\n",
       "\\item 2\n",
       "\\end{enumerate*}\n"
      ],
      "text/markdown": [
       "1. 2\n",
       "2. 2\n",
       "\n",
       "\n"
      ],
      "text/plain": [
       "[1] 2 2"
      ]
     },
     "metadata": {},
     "output_type": "display_data"
    },
    {
     "data": {
      "text/html": [
       "<strong>$dim</strong> = <ol class=list-inline>\n",
       "\t<li>2</li>\n",
       "\t<li>2</li>\n",
       "</ol>\n"
      ],
      "text/latex": [
       "\\textbf{\\$dim} = \\begin{enumerate*}\n",
       "\\item 2\n",
       "\\item 2\n",
       "\\end{enumerate*}\n"
      ],
      "text/markdown": [
       "**$dim** = 1. 2\n",
       "2. 2\n",
       "\n",
       "\n"
      ],
      "text/plain": [
       "$dim\n",
       "[1] 2 2\n"
      ]
     },
     "metadata": {},
     "output_type": "display_data"
    }
   ],
   "source": [
    "m <- matrix(nrow = 2, ncol = 2) \n",
    "m \n",
    "dim(m) \n",
    "attributes(m)"
   ]
  },
  {
   "cell_type": "code",
   "execution_count": 44,
   "id": "a82cfa34-19cd-4d1f-8a27-05c550331d5b",
   "metadata": {},
   "outputs": [
    {
     "data": {
      "text/html": [
       "<table>\n",
       "<tbody>\n",
       "\t<tr><td>1</td><td>4</td></tr>\n",
       "\t<tr><td>2</td><td>5</td></tr>\n",
       "\t<tr><td>3</td><td>6</td></tr>\n",
       "</tbody>\n",
       "</table>\n"
      ],
      "text/latex": [
       "\\begin{tabular}{ll}\n",
       "\t 1 & 4\\\\\n",
       "\t 2 & 5\\\\\n",
       "\t 3 & 6\\\\\n",
       "\\end{tabular}\n"
      ],
      "text/markdown": [
       "\n",
       "| 1 | 4 |\n",
       "| 2 | 5 |\n",
       "| 3 | 6 |\n",
       "\n"
      ],
      "text/plain": [
       "     [,1] [,2]\n",
       "[1,] 1    4   \n",
       "[2,] 2    5   \n",
       "[3,] 3    6   "
      ]
     },
     "metadata": {},
     "output_type": "display_data"
    }
   ],
   "source": [
    "m <- matrix(1:6, nrow=3, ncol =2)\n",
    "m"
   ]
  },
  {
   "cell_type": "code",
   "execution_count": 43,
   "id": "bda3e34d-519e-4b89-8dc5-98ec27f3be20",
   "metadata": {},
   "outputs": [
    {
     "data": {
      "text/html": [
       "<table>\n",
       "<tbody>\n",
       "\t<tr><td>1 </td><td> 6</td></tr>\n",
       "\t<tr><td>2 </td><td> 7</td></tr>\n",
       "\t<tr><td>3 </td><td> 8</td></tr>\n",
       "\t<tr><td>4 </td><td> 9</td></tr>\n",
       "\t<tr><td>5 </td><td>10</td></tr>\n",
       "</tbody>\n",
       "</table>\n"
      ],
      "text/latex": [
       "\\begin{tabular}{ll}\n",
       "\t 1  &  6\\\\\n",
       "\t 2  &  7\\\\\n",
       "\t 3  &  8\\\\\n",
       "\t 4  &  9\\\\\n",
       "\t 5  & 10\\\\\n",
       "\\end{tabular}\n"
      ],
      "text/markdown": [
       "\n",
       "| 1  |  6 |\n",
       "| 2  |  7 |\n",
       "| 3  |  8 |\n",
       "| 4  |  9 |\n",
       "| 5  | 10 |\n",
       "\n"
      ],
      "text/plain": [
       "     [,1] [,2]\n",
       "[1,] 1     6  \n",
       "[2,] 2     7  \n",
       "[3,] 3     8  \n",
       "[4,] 4     9  \n",
       "[5,] 5    10  "
      ]
     },
     "metadata": {},
     "output_type": "display_data"
    }
   ],
   "source": [
    "m <- 1:10 \n",
    "dim(m) <- c(5,2) \n",
    "m"
   ]
  },
  {
   "cell_type": "code",
   "execution_count": 45,
   "id": "c870f76c-7c69-4a88-b335-cc218a35ca68",
   "metadata": {},
   "outputs": [
    {
     "data": {
      "text/html": [
       "<table>\n",
       "<thead><tr><th scope=col>x</th><th scope=col>y</th></tr></thead>\n",
       "<tbody>\n",
       "\t<tr><td>1 </td><td>10</td></tr>\n",
       "\t<tr><td>2 </td><td>11</td></tr>\n",
       "\t<tr><td>3 </td><td>12</td></tr>\n",
       "</tbody>\n",
       "</table>\n"
      ],
      "text/latex": [
       "\\begin{tabular}{ll}\n",
       " x & y\\\\\n",
       "\\hline\n",
       "\t 1  & 10\\\\\n",
       "\t 2  & 11\\\\\n",
       "\t 3  & 12\\\\\n",
       "\\end{tabular}\n"
      ],
      "text/markdown": [
       "\n",
       "| x | y |\n",
       "|---|---|\n",
       "| 1  | 10 |\n",
       "| 2  | 11 |\n",
       "| 3  | 12 |\n",
       "\n"
      ],
      "text/plain": [
       "     x y \n",
       "[1,] 1 10\n",
       "[2,] 2 11\n",
       "[3,] 3 12"
      ]
     },
     "metadata": {},
     "output_type": "display_data"
    }
   ],
   "source": [
    "x <- 1:3 \n",
    "y <- 10:12 \n",
    "cbind(x,y)"
   ]
  },
  {
   "cell_type": "code",
   "execution_count": 46,
   "id": "be39678e-84d5-4b14-934f-cdb56268a837",
   "metadata": {},
   "outputs": [
    {
     "data": {
      "text/html": [
       "<table>\n",
       "<tbody>\n",
       "\t<tr><th scope=row>x</th><td> 1</td><td> 2</td><td> 3</td></tr>\n",
       "\t<tr><th scope=row>y</th><td>10</td><td>11</td><td>12</td></tr>\n",
       "</tbody>\n",
       "</table>\n"
      ],
      "text/latex": [
       "\\begin{tabular}{r|lll}\n",
       "\tx &  1 &  2 &  3\\\\\n",
       "\ty & 10 & 11 & 12\\\\\n",
       "\\end{tabular}\n"
      ],
      "text/markdown": [
       "\n",
       "| x |  1 |  2 |  3 |\n",
       "| y | 10 | 11 | 12 |\n",
       "\n"
      ],
      "text/plain": [
       "  [,1] [,2] [,3]\n",
       "x  1    2    3  \n",
       "y 10   11   12  "
      ]
     },
     "metadata": {},
     "output_type": "display_data"
    }
   ],
   "source": [
    "rbind(x,y) "
   ]
  },
  {
   "cell_type": "markdown",
   "id": "ff3ee547-18d8-4684-8070-e15bc9f009c9",
   "metadata": {
    "jp-MarkdownHeadingCollapsed": true
   },
   "source": [
    "## List\n",
    "\n",
    "In R lists act as containers. Unlike atomic vectors, its contents are not restricted to a single mode and can encompass any data type. Lists are sometimes called recursive vectors, because a list can contain other lists. This makes them fundamentally different from atomic vectors. \n",
    "\n",
    "Lists are extremely useful inside functions. You can \"staple\" together lots of different kinds of results into a single object that a function can return. It doesn't print out like a vector. Prints a new line for each element. "
   ]
  },
  {
   "cell_type": "code",
   "execution_count": 48,
   "id": "3a8e462f-885e-4b66-bed4-a2025ffcf611",
   "metadata": {},
   "outputs": [
    {
     "data": {
      "text/html": [
       "<ol>\n",
       "\t<li>1</li>\n",
       "\t<li>'a'</li>\n",
       "\t<li>TRUE</li>\n",
       "\t<li>1+4i</li>\n",
       "</ol>\n"
      ],
      "text/latex": [
       "\\begin{enumerate}\n",
       "\\item 1\n",
       "\\item 'a'\n",
       "\\item TRUE\n",
       "\\item 1+4i\n",
       "\\end{enumerate}\n"
      ],
      "text/markdown": [
       "1. 1\n",
       "2. 'a'\n",
       "3. TRUE\n",
       "4. 1+4i\n",
       "\n",
       "\n"
      ],
      "text/plain": [
       "[[1]]\n",
       "[1] 1\n",
       "\n",
       "[[2]]\n",
       "[1] \"a\"\n",
       "\n",
       "[[3]]\n",
       "[1] TRUE\n",
       "\n",
       "[[4]]\n",
       "[1] 1+4i\n"
      ]
     },
     "metadata": {},
     "output_type": "display_data"
    },
    {
     "data": {
      "text/html": [
       "<ol>\n",
       "\t<li>1</li>\n",
       "\t<li>2</li>\n",
       "\t<li>3</li>\n",
       "\t<li>4</li>\n",
       "\t<li>5</li>\n",
       "</ol>\n"
      ],
      "text/latex": [
       "\\begin{enumerate}\n",
       "\\item 1\n",
       "\\item 2\n",
       "\\item 3\n",
       "\\item 4\n",
       "\\item 5\n",
       "\\end{enumerate}\n"
      ],
      "text/markdown": [
       "1. 1\n",
       "2. 2\n",
       "3. 3\n",
       "4. 4\n",
       "5. 5\n",
       "\n",
       "\n"
      ],
      "text/plain": [
       "[[1]]\n",
       "[1] 1\n",
       "\n",
       "[[2]]\n",
       "[1] 2\n",
       "\n",
       "[[3]]\n",
       "[1] 3\n",
       "\n",
       "[[4]]\n",
       "[1] 4\n",
       "\n",
       "[[5]]\n",
       "[1] 5\n"
      ]
     },
     "metadata": {},
     "output_type": "display_data"
    },
    {
     "data": {
      "text/html": [
       "5"
      ],
      "text/latex": [
       "5"
      ],
      "text/markdown": [
       "5"
      ],
      "text/plain": [
       "[1] 5"
      ]
     },
     "metadata": {},
     "output_type": "display_data"
    }
   ],
   "source": [
    "x <- list(1, \"a\", TRUE, 1+4i) \n",
    "x\n",
    "x <- 1:5 \n",
    "x <- as.list(x) \n",
    "x\n",
    "length(x) "
   ]
  },
  {
   "cell_type": "code",
   "execution_count": 49,
   "id": "7028f970-d4db-4a26-9f64-9e28291de041",
   "metadata": {},
   "outputs": [
    {
     "data": {
      "text/html": [
       "<ol>\n",
       "\t<li>1</li>\n",
       "</ol>\n"
      ],
      "text/latex": [
       "\\begin{enumerate}\n",
       "\\item 1\n",
       "\\end{enumerate}\n"
      ],
      "text/markdown": [
       "1. 1\n",
       "\n",
       "\n"
      ],
      "text/plain": [
       "[[1]]\n",
       "[1] 1\n"
      ]
     },
     "metadata": {},
     "output_type": "display_data"
    }
   ],
   "source": [
    "x[1]"
   ]
  },
  {
   "cell_type": "code",
   "execution_count": 51,
   "id": "70167e7d-d229-46ce-a91a-5fe57bc420a9",
   "metadata": {},
   "outputs": [
    {
     "data": {
      "text/html": [
       "<dl>\n",
       "\t<dt>$a</dt>\n",
       "\t\t<dd>'Rich FitzJohn'</dd>\n",
       "\t<dt>$b</dt>\n",
       "\t\t<dd><ol class=list-inline>\n",
       "\t<li>1</li>\n",
       "\t<li>2</li>\n",
       "\t<li>3</li>\n",
       "\t<li>4</li>\n",
       "\t<li>5</li>\n",
       "\t<li>6</li>\n",
       "\t<li>7</li>\n",
       "\t<li>8</li>\n",
       "\t<li>9</li>\n",
       "\t<li>10</li>\n",
       "</ol>\n",
       "</dd>\n",
       "\t<dt>$data</dt>\n",
       "\t\t<dd><table>\n",
       "<thead><tr><th scope=col>Sepal.Length</th><th scope=col>Sepal.Width</th><th scope=col>Petal.Length</th><th scope=col>Petal.Width</th><th scope=col>Species</th></tr></thead>\n",
       "<tbody>\n",
       "\t<tr><td>5.1   </td><td>3.5   </td><td>1.4   </td><td>0.2   </td><td>setosa</td></tr>\n",
       "\t<tr><td>4.9   </td><td>3.0   </td><td>1.4   </td><td>0.2   </td><td>setosa</td></tr>\n",
       "\t<tr><td>4.7   </td><td>3.2   </td><td>1.3   </td><td>0.2   </td><td>setosa</td></tr>\n",
       "\t<tr><td>4.6   </td><td>3.1   </td><td>1.5   </td><td>0.2   </td><td>setosa</td></tr>\n",
       "\t<tr><td>5.0   </td><td>3.6   </td><td>1.4   </td><td>0.2   </td><td>setosa</td></tr>\n",
       "\t<tr><td>5.4   </td><td>3.9   </td><td>1.7   </td><td>0.4   </td><td>setosa</td></tr>\n",
       "</tbody>\n",
       "</table>\n",
       "</dd>\n",
       "</dl>\n"
      ],
      "text/latex": [
       "\\begin{description}\n",
       "\\item[\\$a] 'Rich FitzJohn'\n",
       "\\item[\\$b] \\begin{enumerate*}\n",
       "\\item 1\n",
       "\\item 2\n",
       "\\item 3\n",
       "\\item 4\n",
       "\\item 5\n",
       "\\item 6\n",
       "\\item 7\n",
       "\\item 8\n",
       "\\item 9\n",
       "\\item 10\n",
       "\\end{enumerate*}\n",
       "\n",
       "\\item[\\$data] \\begin{tabular}{r|lllll}\n",
       " Sepal.Length & Sepal.Width & Petal.Length & Petal.Width & Species\\\\\n",
       "\\hline\n",
       "\t 5.1    & 3.5    & 1.4    & 0.2    & setosa\\\\\n",
       "\t 4.9    & 3.0    & 1.4    & 0.2    & setosa\\\\\n",
       "\t 4.7    & 3.2    & 1.3    & 0.2    & setosa\\\\\n",
       "\t 4.6    & 3.1    & 1.5    & 0.2    & setosa\\\\\n",
       "\t 5.0    & 3.6    & 1.4    & 0.2    & setosa\\\\\n",
       "\t 5.4    & 3.9    & 1.7    & 0.4    & setosa\\\\\n",
       "\\end{tabular}\n",
       "\n",
       "\\end{description}\n"
      ],
      "text/markdown": [
       "$a\n",
       ":   'Rich FitzJohn'\n",
       "$b\n",
       ":   1. 1\n",
       "2. 2\n",
       "3. 3\n",
       "4. 4\n",
       "5. 5\n",
       "6. 6\n",
       "7. 7\n",
       "8. 8\n",
       "9. 9\n",
       "10. 10\n",
       "\n",
       "\n",
       "\n",
       "$data\n",
       ":   \n",
       "| Sepal.Length | Sepal.Width | Petal.Length | Petal.Width | Species |\n",
       "|---|---|---|---|---|\n",
       "| 5.1    | 3.5    | 1.4    | 0.2    | setosa |\n",
       "| 4.9    | 3.0    | 1.4    | 0.2    | setosa |\n",
       "| 4.7    | 3.2    | 1.3    | 0.2    | setosa |\n",
       "| 4.6    | 3.1    | 1.5    | 0.2    | setosa |\n",
       "| 5.0    | 3.6    | 1.4    | 0.2    | setosa |\n",
       "| 5.4    | 3.9    | 1.7    | 0.4    | setosa |\n",
       "\n",
       "\n",
       "\n",
       "\n"
      ],
      "text/plain": [
       "$a\n",
       "[1] \"Rich FitzJohn\"\n",
       "\n",
       "$b\n",
       " [1]  1  2  3  4  5  6  7  8  9 10\n",
       "\n",
       "$data\n",
       "  Sepal.Length Sepal.Width Petal.Length Petal.Width Species\n",
       "1          5.1         3.5          1.4         0.2  setosa\n",
       "2          4.9         3.0          1.4         0.2  setosa\n",
       "3          4.7         3.2          1.3         0.2  setosa\n",
       "4          4.6         3.1          1.5         0.2  setosa\n",
       "5          5.0         3.6          1.4         0.2  setosa\n",
       "6          5.4         3.9          1.7         0.4  setosa\n"
      ]
     },
     "metadata": {},
     "output_type": "display_data"
    }
   ],
   "source": [
    "xlist <- list(a = \"Rich FitzJohn\", b = 1:10, data = head(iris)) \n",
    "xlist"
   ]
  },
  {
   "cell_type": "code",
   "execution_count": 55,
   "id": "92d194ef-929c-4d59-8771-7acd6349d0c8",
   "metadata": {},
   "outputs": [
    {
     "data": {
      "text/html": [
       "3"
      ],
      "text/latex": [
       "3"
      ],
      "text/markdown": [
       "3"
      ],
      "text/plain": [
       "[1] 3"
      ]
     },
     "metadata": {},
     "output_type": "display_data"
    }
   ],
   "source": [
    "length(xlist)"
   ]
  },
  {
   "cell_type": "code",
   "execution_count": 56,
   "id": "62f52a3b-a736-48cd-8695-0b5705b8f2a4",
   "metadata": {
    "scrolled": true
   },
   "outputs": [
    {
     "data": {
      "text/html": [
       "<ol>\n",
       "\t<li><ol>\n",
       "\t<li><ol>\n",
       "\t<li><ol>\n",
       "</ol>\n",
       "</li>\n",
       "</ol>\n",
       "</li>\n",
       "</ol>\n",
       "</li>\n",
       "</ol>\n"
      ],
      "text/latex": [
       "\\begin{enumerate}\n",
       "\\item \\begin{enumerate}\n",
       "\\item \\begin{enumerate}\n",
       "\\item \\begin{enumerate}\n",
       "\\end{enumerate}\n",
       "\n",
       "\\end{enumerate}\n",
       "\n",
       "\\end{enumerate}\n",
       "\n",
       "\\end{enumerate}\n"
      ],
      "text/markdown": [
       "1. 1. 1. \n",
       "\n",
       "\n",
       "\n",
       "\n",
       "\n",
       "\n",
       "\n",
       "\n",
       "\n",
       "\n"
      ],
      "text/plain": [
       "[[1]]\n",
       "[[1]][[1]]\n",
       "[[1]][[1]][[1]]\n",
       "list()\n",
       "\n",
       "\n"
      ]
     },
     "metadata": {},
     "output_type": "display_data"
    },
    {
     "data": {
      "text/html": [
       "TRUE"
      ],
      "text/latex": [
       "TRUE"
      ],
      "text/markdown": [
       "TRUE"
      ],
      "text/plain": [
       "[1] TRUE"
      ]
     },
     "metadata": {},
     "output_type": "display_data"
    }
   ],
   "source": [
    "temp <- list(list(list(list()))) \n",
    "temp \n",
    "is.recursive(temp) "
   ]
  },
  {
   "cell_type": "code",
   "execution_count": 61,
   "id": "6243c885-7d5f-4b45-b8fb-d7b809445dc5",
   "metadata": {},
   "outputs": [
    {
     "name": "stdout",
     "output_type": "stream",
     "text": [
      "[[1]]\n",
      "[1] 2 5 3\n",
      "\n",
      "[[2]]\n",
      "[1] 21.3\n",
      "\n",
      "[[3]]\n",
      "function (x)  .Primitive(\"sin\")\n",
      "\n"
     ]
    }
   ],
   "source": [
    "# Create a list.\n",
    "list1 <- list(c(2,5,3),21.3,sin)\n",
    "\n",
    "# Print the list.\n",
    "print(list1)"
   ]
  },
  {
   "cell_type": "markdown",
   "id": "13428fb8-8245-4ea7-b5dc-57ba411d07ab",
   "metadata": {
    "jp-MarkdownHeadingCollapsed": true
   },
   "source": [
    "## Factors\n",
    "\n",
    "Factors are special vectors that represent categorical data. Factors can be ordered or unordered.\n",
    "\n",
    "Factors can only contain pre-defined values. \n",
    "\n",
    "Factors are pretty much integers that have labels on them."
   ]
  },
  {
   "cell_type": "code",
   "execution_count": 57,
   "id": "e378bc89-0b9e-470a-b9e1-c9e3010c9083",
   "metadata": {},
   "outputs": [
    {
     "data": {
      "text/html": [
       "<ol class=list-inline>\n",
       "\t<li>yes</li>\n",
       "\t<li>no</li>\n",
       "\t<li>no</li>\n",
       "\t<li>yes</li>\n",
       "\t<li>yes</li>\n",
       "</ol>\n",
       "\n",
       "<details>\n",
       "\t<summary style=display:list-item;cursor:pointer>\n",
       "\t\t<strong>Levels</strong>:\n",
       "\t</summary>\n",
       "\t<ol class=list-inline>\n",
       "\t\t<li>'no'</li>\n",
       "\t\t<li>'yes'</li>\n",
       "\t</ol>\n",
       "</details>"
      ],
      "text/latex": [
       "\\begin{enumerate*}\n",
       "\\item yes\n",
       "\\item no\n",
       "\\item no\n",
       "\\item yes\n",
       "\\item yes\n",
       "\\end{enumerate*}\n",
       "\n",
       "\\emph{Levels}: \\begin{enumerate*}\n",
       "\\item 'no'\n",
       "\\item 'yes'\n",
       "\\end{enumerate*}\n"
      ],
      "text/markdown": [
       "1. yes\n",
       "2. no\n",
       "3. no\n",
       "4. yes\n",
       "5. yes\n",
       "\n",
       "\n",
       "\n",
       "**Levels**: 1. 'no'\n",
       "2. 'yes'\n",
       "\n",
       "\n"
      ],
      "text/plain": [
       "[1] yes no  no  yes yes\n",
       "Levels: no yes"
      ]
     },
     "metadata": {},
     "output_type": "display_data"
    }
   ],
   "source": [
    "x <- factor(c(\"yes\", \"no\", \"no\", \"yes\", \"yes\")) \n",
    "x "
   ]
  },
  {
   "cell_type": "code",
   "execution_count": 58,
   "id": "84ef3e82-d5b1-4496-aa12-83c58c0f3edf",
   "metadata": {},
   "outputs": [
    {
     "data": {
      "text/plain": [
       "x\n",
       " no yes \n",
       "  2   3 "
      ]
     },
     "metadata": {},
     "output_type": "display_data"
    }
   ],
   "source": [
    "table(x)     # will return a frequency table. "
   ]
  },
  {
   "cell_type": "code",
   "execution_count": 59,
   "id": "7f29e3aa-e7a3-4ae4-b599-6605f82c05e0",
   "metadata": {},
   "outputs": [
    {
     "data": {
      "text/html": [
       "<ol class=list-inline>\n",
       "\t<li>2</li>\n",
       "\t<li>1</li>\n",
       "\t<li>1</li>\n",
       "\t<li>2</li>\n",
       "\t<li>2</li>\n",
       "</ol>\n"
      ],
      "text/latex": [
       "\\begin{enumerate*}\n",
       "\\item 2\n",
       "\\item 1\n",
       "\\item 1\n",
       "\\item 2\n",
       "\\item 2\n",
       "\\end{enumerate*}\n"
      ],
      "text/markdown": [
       "1. 2\n",
       "2. 1\n",
       "3. 1\n",
       "4. 2\n",
       "5. 2\n",
       "\n",
       "\n"
      ],
      "text/plain": [
       "[1] 2 1 1 2 2\n",
       "attr(,\"levels\")\n",
       "[1] \"no\"  \"yes\""
      ]
     },
     "metadata": {},
     "output_type": "display_data"
    }
   ],
   "source": [
    "unclass(x)      # strips out the class information. "
   ]
  },
  {
   "cell_type": "code",
   "execution_count": 60,
   "id": "589df037-4f3e-47bf-af4f-ebb73b6715f7",
   "metadata": {},
   "outputs": [
    {
     "data": {
      "text/html": [
       "<ol class=list-inline>\n",
       "\t<li>yes</li>\n",
       "\t<li>no</li>\n",
       "\t<li>yes</li>\n",
       "</ol>\n",
       "\n",
       "<details>\n",
       "\t<summary style=display:list-item;cursor:pointer>\n",
       "\t\t<strong>Levels</strong>:\n",
       "\t</summary>\n",
       "\t<ol class=list-inline>\n",
       "\t\t<li>'yes'</li>\n",
       "\t\t<li>'no'</li>\n",
       "\t</ol>\n",
       "</details>"
      ],
      "text/latex": [
       "\\begin{enumerate*}\n",
       "\\item yes\n",
       "\\item no\n",
       "\\item yes\n",
       "\\end{enumerate*}\n",
       "\n",
       "\\emph{Levels}: \\begin{enumerate*}\n",
       "\\item 'yes'\n",
       "\\item 'no'\n",
       "\\end{enumerate*}\n"
      ],
      "text/markdown": [
       "1. yes\n",
       "2. no\n",
       "3. yes\n",
       "\n",
       "\n",
       "\n",
       "**Levels**: 1. 'yes'\n",
       "2. 'no'\n",
       "\n",
       "\n"
      ],
      "text/plain": [
       "[1] yes no  yes\n",
       "Levels: yes no"
      ]
     },
     "metadata": {},
     "output_type": "display_data"
    },
    {
     "data": {
      "text/plain": [
       "x\n",
       "yes  no \n",
       "  2   1 "
      ]
     },
     "metadata": {},
     "output_type": "display_data"
    },
    {
     "data": {
      "text/html": [
       "<ol class=list-inline>\n",
       "\t<li>1</li>\n",
       "\t<li>2</li>\n",
       "\t<li>1</li>\n",
       "</ol>\n"
      ],
      "text/latex": [
       "\\begin{enumerate*}\n",
       "\\item 1\n",
       "\\item 2\n",
       "\\item 1\n",
       "\\end{enumerate*}\n"
      ],
      "text/markdown": [
       "1. 1\n",
       "2. 2\n",
       "3. 1\n",
       "\n",
       "\n"
      ],
      "text/plain": [
       "[1] 1 2 1\n",
       "attr(,\"levels\")\n",
       "[1] \"yes\" \"no\" "
      ]
     },
     "metadata": {},
     "output_type": "display_data"
    }
   ],
   "source": [
    "x <- factor(c(\"yes\", \"no\", \"yes\"), levels = c(\"yes\", \"no\")) \n",
    "x\n",
    "table(x)\n",
    "unclass(x)"
   ]
  },
  {
   "cell_type": "markdown",
   "id": "e4cb93b6-d0aa-4ef1-b6ff-1eeeac09e1a5",
   "metadata": {
    "jp-MarkdownHeadingCollapsed": true
   },
   "source": [
    "## Array\n",
    "\n",
    "While matrices are confined to two dimensions, arrays can be of any number of dimensions. The array function takes a dim attribute which creates the required number of dimension."
   ]
  },
  {
   "cell_type": "code",
   "execution_count": 62,
   "id": "202bc1b6-63c2-4d42-8be7-e921c7daf879",
   "metadata": {},
   "outputs": [
    {
     "name": "stdout",
     "output_type": "stream",
     "text": [
      ", , 1\n",
      "\n",
      "     [,1]     [,2]     [,3]    \n",
      "[1,] \"green\"  \"yellow\" \"green\" \n",
      "[2,] \"yellow\" \"green\"  \"yellow\"\n",
      "[3,] \"green\"  \"yellow\" \"green\" \n",
      "\n",
      ", , 2\n",
      "\n",
      "     [,1]     [,2]     [,3]    \n",
      "[1,] \"yellow\" \"green\"  \"yellow\"\n",
      "[2,] \"green\"  \"yellow\" \"green\" \n",
      "[3,] \"yellow\" \"green\"  \"yellow\"\n",
      "\n"
     ]
    }
   ],
   "source": [
    "# Create an array.\n",
    "a <- array(c('green','yellow'),dim = c(3,3,2))\n",
    "print(a)"
   ]
  },
  {
   "cell_type": "markdown",
   "id": "77206d12-14e9-474c-aa80-4114ad0d120d",
   "metadata": {
    "jp-MarkdownHeadingCollapsed": true
   },
   "source": [
    "## Data Frame\n",
    "\n",
    "Useful functions \n",
    "1. head() - see first 5 rows\n",
    "2. tail() - see last 5 rows\n",
    "3. dim() - see dimensions\n",
    "4. nrow() - number of rows\n",
    "5. ncol() - number of columns\n",
    "6. str() - structure of each column\n",
    "7. names() - will list column names for a data.frame (or any object really). "
   ]
  },
  {
   "cell_type": "code",
   "execution_count": 63,
   "id": "dcec6a86-5ab6-4ec9-8408-f216015c8716",
   "metadata": {},
   "outputs": [
    {
     "name": "stdout",
     "output_type": "stream",
     "text": [
      "  gender height weight Age\n",
      "1   Male  152.0     81  42\n",
      "2   Male  171.5     93  38\n",
      "3 Female  165.0     78  26\n"
     ]
    }
   ],
   "source": [
    "# Create the data frame.\n",
    "BMI <- \tdata.frame(\n",
    "   gender = c(\"Male\", \"Male\",\"Female\"), \n",
    "   height = c(152, 171.5, 165), \n",
    "   weight = c(81,93, 78),\n",
    "   Age = c(42,38,26)\n",
    ")\n",
    "print(BMI)"
   ]
  },
  {
   "cell_type": "markdown",
   "id": "02b8db1d-f982-484e-b7f7-7906f78ebfeb",
   "metadata": {
    "jp-MarkdownHeadingCollapsed": true
   },
   "source": [
    "# Operators"
   ]
  },
  {
   "cell_type": "code",
   "execution_count": 66,
   "id": "780c947a-0438-4ffd-8a0f-69ac84c33417",
   "metadata": {},
   "outputs": [
    {
     "name": "stdout",
     "output_type": "stream",
     "text": [
      "\n",
      "Sum: 11 8.36\n",
      "Difference: -7 2.24\n",
      "Product: 18 16.218\n",
      "Quotient: 0.2222222 1.732026\n",
      "Integer Quotient: 0 1\n",
      "Remainder: 2 2.24\n",
      "Power: 512 164.5448"
     ]
    }
   ],
   "source": [
    "# Arithemetic Operators\n",
    "\n",
    "a = c(2, 5.3)    # c is used to denote a vector\n",
    "b <- c(9, 3.06)\n",
    "\n",
    "cat(\"\\nSum:\",a+b)\n",
    "cat(\"\\nDifference:\",a-b)\n",
    "cat(\"\\nProduct:\",a*b)\n",
    "cat(\"\\nQuotient:\",a/b)\n",
    "cat(\"\\nInteger Quotient:\",a%/%b)\n",
    "cat(\"\\nRemainder:\",a%%b)\n",
    "cat(\"\\nPower:\",a^b)"
   ]
  },
  {
   "cell_type": "code",
   "execution_count": 71,
   "id": "1e76675f-190f-4eae-9106-2dab80b345be",
   "metadata": {},
   "outputs": [
    {
     "name": "stdout",
     "output_type": "stream",
     "text": [
      "\n",
      "AND: FALSE TRUE\n",
      "OR: TRUE TRUE\n",
      "NEGATION: TRUE FALSE\n",
      "LOGICAL AND: FALSE\n",
      "LOGICAL OR: TRUE"
     ]
    }
   ],
   "source": [
    "# Logical Operators\n",
    "\n",
    "lst1 <- c(TRUE, 0.1)\n",
    "lst2 <- c(0, 0+9i)\n",
    "\n",
    "cat(\"\\nAND:\", lst1&lst2)\n",
    "cat(\"\\nOR:\", lst1|lst2)\n",
    "cat(\"\\nNEGATION:\", !lst2)             # A unary operator that negates the status of the elements of the operand.\n",
    "cat(\"\\nLOGICAL AND:\", lst1&&lst2)     # Returns True if both the first elements of the operands are True.\n",
    "cat(\"\\nLOGICAL OR:\", lst1||lst2)      # Returns True if either of the first elements of the operands is True."
   ]
  },
  {
   "cell_type": "code",
   "execution_count": 72,
   "id": "25daa3df-a13d-44f9-90ec-f480c0776aff",
   "metadata": {},
   "outputs": [
    {
     "data": {
      "text/html": [
       "FALSE"
      ],
      "text/latex": [
       "FALSE"
      ],
      "text/markdown": [
       "FALSE"
      ],
      "text/plain": [
       "[1] FALSE"
      ]
     },
     "metadata": {},
     "output_type": "display_data"
    },
    {
     "data": {
      "text/html": [
       "TRUE"
      ],
      "text/latex": [
       "TRUE"
      ],
      "text/markdown": [
       "TRUE"
      ],
      "text/plain": [
       "[1] TRUE"
      ]
     },
     "metadata": {},
     "output_type": "display_data"
    },
    {
     "data": {
      "text/html": [
       "FALSE"
      ],
      "text/latex": [
       "FALSE"
      ],
      "text/markdown": [
       "FALSE"
      ],
      "text/plain": [
       "[1] FALSE"
      ]
     },
     "metadata": {},
     "output_type": "display_data"
    },
    {
     "data": {
      "text/html": [
       "TRUE"
      ],
      "text/latex": [
       "TRUE"
      ],
      "text/markdown": [
       "TRUE"
      ],
      "text/plain": [
       "[1] TRUE"
      ]
     },
     "metadata": {},
     "output_type": "display_data"
    },
    {
     "data": {
      "text/html": [
       "FALSE"
      ],
      "text/latex": [
       "FALSE"
      ],
      "text/markdown": [
       "FALSE"
      ],
      "text/plain": [
       "[1] FALSE"
      ]
     },
     "metadata": {},
     "output_type": "display_data"
    },
    {
     "data": {
      "text/html": [
       "TRUE"
      ],
      "text/latex": [
       "TRUE"
      ],
      "text/markdown": [
       "TRUE"
      ],
      "text/plain": [
       "[1] TRUE"
      ]
     },
     "metadata": {},
     "output_type": "display_data"
    }
   ],
   "source": [
    "# Relational Operators\n",
    "\n",
    "a <- 56\n",
    "b <- 9\n",
    "\n",
    "a<b\n",
    "a>b\n",
    "a<=b\n",
    "a>=b\n",
    "a==b\n",
    "a!=b"
   ]
  },
  {
   "cell_type": "code",
   "execution_count": 73,
   "id": "d5351e22-5f74-44e1-8bd4-fe1e8df8e34e",
   "metadata": {},
   "outputs": [
    {
     "data": {
      "text/html": [
       "<ol class=list-inline>\n",
       "\t<li>'9'</li>\n",
       "\t<li>'a'</li>\n",
       "</ol>\n"
      ],
      "text/latex": [
       "\\begin{enumerate*}\n",
       "\\item '9'\n",
       "\\item 'a'\n",
       "\\end{enumerate*}\n"
      ],
      "text/markdown": [
       "1. '9'\n",
       "2. 'a'\n",
       "\n",
       "\n"
      ],
      "text/plain": [
       "[1] \"9\" \"a\""
      ]
     },
     "metadata": {},
     "output_type": "display_data"
    },
    {
     "data": {
      "text/html": [
       "87"
      ],
      "text/latex": [
       "87"
      ],
      "text/markdown": [
       "87"
      ],
      "text/plain": [
       "[1] 87"
      ]
     },
     "metadata": {},
     "output_type": "display_data"
    }
   ],
   "source": [
    "# Assignment Operators\n",
    "\n",
    "a = c(9, \"a\")    # Left Assignment (<- or <<- or =)\n",
    "87 ->> b         # Right Assignment (-> or ->>)\n",
    "\n",
    "a\n",
    "b"
   ]
  },
  {
   "cell_type": "code",
   "execution_count": 75,
   "id": "4a7a5db1-f2f9-4866-bcd3-86029339e889",
   "metadata": {},
   "outputs": [
    {
     "name": "stdout",
     "output_type": "stream",
     "text": [
      "[1] TRUE\n",
      "     [,1] [,2] [,3]\n",
      "[1,]    1    3    5\n",
      "[2,]    2    4    6\n",
      "     [,1] [,2]\n",
      "[1,]    1    2\n",
      "[2,]    3    4\n",
      "[3,]    5    6\n",
      "     [,1] [,2]\n",
      "[1,]   35   44\n",
      "[2,]   44   56\n"
     ]
    }
   ],
   "source": [
    "# Misc. Operators\n",
    "\n",
    "# %in%\n",
    "val <- 0.1\n",
    "list1 <- c(TRUE, 0.1, \"apple\")\n",
    "print(val %in% list1)\n",
    "\n",
    "# %*%\n",
    "mat = matrix(c(1,2,3,4,5,6),nrow=2,ncol=3)\n",
    "print (mat)\n",
    "print(t(mat))    # transpose\n",
    "pro = mat %*% t(mat)\n",
    "print(pro)"
   ]
  },
  {
   "cell_type": "markdown",
   "id": "8a2fe308-06a6-461e-a1ce-f351b179875f",
   "metadata": {},
   "source": [
    "# Important Methods for R Variables"
   ]
  },
  {
   "cell_type": "code",
   "execution_count": 76,
   "id": "738c89c5-f0e0-4a1b-abd9-a2ce476cf1f5",
   "metadata": {},
   "outputs": [
    {
     "name": "stdout",
     "output_type": "stream",
     "text": [
      "[1] \"character\"\n"
     ]
    }
   ],
   "source": [
    "# class() function - This built-in function is used to determine the data type of the variable provided to it.\n",
    "var1 = \"hello\"\n",
    "print(class(var1))"
   ]
  },
  {
   "cell_type": "code",
   "execution_count": 77,
   "id": "12243396-84f0-458d-ad13-97eeab49bc4b",
   "metadata": {},
   "outputs": [
    {
     "name": "stdout",
     "output_type": "stream",
     "text": [
      " [1] \"a\"      \"b\"      \"BMI\"    \"list1\"  \"lst1\"   \"lst2\"   \"m\"      \"mat\"   \n",
      " [9] \"pi\"     \"pro\"    \"series\" \"temp\"   \"v\"      \"val\"    \"var1\"   \"var2\"  \n",
      "[17] \"var3\"   \"x\"      \"xlist\"  \"xx\"     \"y\"      \"z\"     \n"
     ]
    }
   ],
   "source": [
    "# ls() function - This built-in function is used to know all the present variables in the workspace.\n",
    "\n",
    "var1 = \"hello\"\n",
    "var2 <- \"hello\"\n",
    "\"hello\" -> var3\n",
    "print(ls())"
   ]
  },
  {
   "cell_type": "code",
   "execution_count": 78,
   "id": "89069c0b-2606-4a71-a2df-737105e1c9d3",
   "metadata": {},
   "outputs": [
    {
     "ename": "ERROR",
     "evalue": "Error in print(var3): object 'var3' not found\n",
     "output_type": "error",
     "traceback": [
      "Error in print(var3): object 'var3' not found\nTraceback:\n",
      "1. print(var3)"
     ]
    }
   ],
   "source": [
    "# rm() function - This is again a built-in function used to delete an unwanted variable within your workspace.\n",
    "rm(var3)\n",
    "print(var3)"
   ]
  },
  {
   "cell_type": "markdown",
   "id": "95f6e4cf-11b6-4817-b81b-3a91ee56a8f1",
   "metadata": {},
   "source": [
    "| **Aspect**          | **Global Variables**                                           | **Local Variables**                                               |\n",
    "|---------------------|---------------------------------------------------------------|-------------------------------------------------------------------|\n",
    "| **Scope**           | Defined outside of any function; accessible from anywhere.     | Defined inside a function; only accessible within that function.  |\n",
    "| **Lifetime**        | Remains in memory until the program finishes or is deleted.    | Exists only during the function's execution; destroyed afterward. |\n",
    "| **Naming Conflicts**| Can cause conflicts if used with the same name elsewhere.      | Less likely to cause conflicts as they are function-specific.     |\n",
    "| **Memory Usage**    | Uses more memory since it persists throughout program execution. | Uses less memory as they are created and destroyed when necessary. |\n"
   ]
  },
  {
   "cell_type": "markdown",
   "id": "a7b39235-c9e2-405d-991a-1e5e392dbe3f",
   "metadata": {},
   "source": [
    "## Global Variables\n",
    "\n",
    "- They are available throughout the lifetime of a program.\n",
    "- They are declared anywhere in the program outside all of the functions or blocks."
   ]
  },
  {
   "cell_type": "code",
   "execution_count": 79,
   "id": "55a3f870-6235-4797-9244-995167ae5b3c",
   "metadata": {},
   "outputs": [
    {
     "name": "stdout",
     "output_type": "stream",
     "text": [
      "[1] 5\n",
      "[1] 10\n"
     ]
    }
   ],
   "source": [
    "# global variable\n",
    "global = 5\n",
    " \n",
    "# global variable accessed from within a function\n",
    "display = function(){\n",
    "    print(global)\n",
    "}\n",
    "display()\n",
    " \n",
    "# changing value of global variable\n",
    "global = 10\n",
    "display()"
   ]
  },
  {
   "cell_type": "markdown",
   "id": "2568c26e-580e-44cc-982e-91c152000e2f",
   "metadata": {},
   "source": [
    "## Local Variables\n",
    "- Local variables are those variables that exist only within a certain part of a program like a function and are released when the function call ends.\n",
    "- Local variables do not exist outside the block in which they are declared, i.e. they can not be accessed or used outside that block."
   ]
  },
  {
   "cell_type": "code",
   "execution_count": 80,
   "id": "50759b21-06a1-4818-8e18-f149d89bb9f4",
   "metadata": {},
   "outputs": [
    {
     "name": "stdout",
     "output_type": "stream",
     "text": [
      "Age is:\n",
      "[1] 18\n"
     ]
    }
   ],
   "source": [
    "func = function(){\n",
    "    # this variable is local to the function func() and cannot be accessed outside this function\n",
    "    age = 18\n",
    "    print(age)\n",
    "}\n",
    " \n",
    "cat(\"Age is:\\n\")\n",
    "func()"
   ]
  },
  {
   "cell_type": "markdown",
   "id": "bd04d2ed-9575-42b0-be85-bb5c28dfbad5",
   "metadata": {},
   "source": [
    "# Creating and Manipulating Objects"
   ]
  },
  {
   "cell_type": "code",
   "execution_count": null,
   "id": "8770cb52-7933-4363-9abe-1b29ca75d4e5",
   "metadata": {},
   "outputs": [],
   "source": []
  },
  {
   "cell_type": "code",
   "execution_count": null,
   "id": "4b2435e3-420d-46ee-b793-3030f18622a9",
   "metadata": {},
   "outputs": [],
   "source": []
  },
  {
   "cell_type": "code",
   "execution_count": null,
   "id": "922b1974-6ff8-4574-93dd-46e6bcf4461d",
   "metadata": {},
   "outputs": [],
   "source": []
  },
  {
   "cell_type": "markdown",
   "id": "010ad4b2-27ac-4ce3-bdd1-1a6c982c3bdc",
   "metadata": {},
   "source": [
    "# Importing / Exporting Data"
   ]
  },
  {
   "cell_type": "code",
   "execution_count": null,
   "id": "348eab11-2b77-41b9-9f95-45906b8469b2",
   "metadata": {},
   "outputs": [],
   "source": []
  },
  {
   "cell_type": "code",
   "execution_count": null,
   "id": "58243fa2-77c8-44df-b172-8bcbfab0b212",
   "metadata": {},
   "outputs": [],
   "source": []
  },
  {
   "cell_type": "code",
   "execution_count": null,
   "id": "a465d255-b38e-475d-bfd8-ae2c069d0f2b",
   "metadata": {},
   "outputs": [],
   "source": []
  },
  {
   "cell_type": "markdown",
   "id": "577c8ccd-6712-4e6a-a5fa-53a3ebc128cf",
   "metadata": {},
   "source": [
    "# Data Distribution"
   ]
  },
  {
   "cell_type": "code",
   "execution_count": null,
   "id": "c6175e28-6bbe-4079-a229-a128f302aee2",
   "metadata": {},
   "outputs": [],
   "source": []
  },
  {
   "cell_type": "code",
   "execution_count": null,
   "id": "48a94adf-f10f-48b3-bc24-c990afea60e6",
   "metadata": {},
   "outputs": [],
   "source": []
  },
  {
   "cell_type": "code",
   "execution_count": null,
   "id": "228679bc-fcf0-4b4c-bb5f-eb513da27caa",
   "metadata": {},
   "outputs": [],
   "source": []
  },
  {
   "cell_type": "markdown",
   "id": "db7160b2-e77f-4261-96b9-ef5ded49b4f9",
   "metadata": {},
   "source": [
    "# Data Manipulation and Extracting Components"
   ]
  },
  {
   "cell_type": "code",
   "execution_count": null,
   "id": "3d9e4874-cc3b-4ee7-a94b-fd4dc2decbaa",
   "metadata": {},
   "outputs": [],
   "source": []
  },
  {
   "cell_type": "code",
   "execution_count": null,
   "id": "7f2c6f2b-694d-4b10-a9a7-1d16c9389482",
   "metadata": {},
   "outputs": [],
   "source": []
  },
  {
   "cell_type": "code",
   "execution_count": null,
   "id": "9b1a384d-863e-4244-ab73-6af28f335ea2",
   "metadata": {},
   "outputs": [],
   "source": []
  },
  {
   "cell_type": "markdown",
   "id": "14c2cede-0d71-4fc2-b58b-bfc5ee9e3ac5",
   "metadata": {},
   "source": [
    "# Data Shaping and Transformation"
   ]
  },
  {
   "cell_type": "code",
   "execution_count": null,
   "id": "dffdc91d-2e71-4dc3-b00e-b750c8ce7c06",
   "metadata": {},
   "outputs": [],
   "source": []
  }
 ],
 "metadata": {
  "kernelspec": {
   "display_name": "R",
   "language": "R",
   "name": "ir"
  },
  "language_info": {
   "codemirror_mode": "r",
   "file_extension": ".r",
   "mimetype": "text/x-r-source",
   "name": "R",
   "pygments_lexer": "r",
   "version": "3.6.1"
  }
 },
 "nbformat": 4,
 "nbformat_minor": 5
}
